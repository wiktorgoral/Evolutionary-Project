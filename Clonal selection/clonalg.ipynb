{
  "nbformat": 4,
  "nbformat_minor": 0,
  "metadata": {
    "colab": {
      "name": "clonalg.ipynb",
      "provenance": [],
      "collapsed_sections": []
    },
    "kernelspec": {
      "name": "python3",
      "display_name": "Python 3"
    }
  },
  "cells": [
    {
      "cell_type": "code",
      "metadata": {
        "colab": {
          "base_uri": "https://localhost:8080/"
        },
        "id": "Ejc6vo2We9LL",
        "outputId": "ee128409-96d1-47df-dfb4-81a7fe77d181"
      },
      "source": [
        "%pip install jmetalpy\n",
        "%pip install scikit-posthocs"
      ],
      "execution_count": null,
      "outputs": [
        {
          "output_type": "stream",
          "text": [
            "Collecting jmetalpy\n",
            "\u001b[?25l  Downloading https://files.pythonhosted.org/packages/5e/92/731b647afa389619c0e6ae340f196e14d75f7307b3e867e7db7f91c85d18/jmetalpy-1.5.5.tar.gz (110kB)\n",
            "\r\u001b[K     |███                             | 10kB 14.1MB/s eta 0:00:01\r\u001b[K     |██████                          | 20kB 11.4MB/s eta 0:00:01\r\u001b[K     |█████████                       | 30kB 7.5MB/s eta 0:00:01\r\u001b[K     |████████████                    | 40kB 6.7MB/s eta 0:00:01\r\u001b[K     |██████████████▉                 | 51kB 4.5MB/s eta 0:00:01\r\u001b[K     |█████████████████▉              | 61kB 4.4MB/s eta 0:00:01\r\u001b[K     |████████████████████▉           | 71kB 4.9MB/s eta 0:00:01\r\u001b[K     |███████████████████████▉        | 81kB 5.0MB/s eta 0:00:01\r\u001b[K     |██████████████████████████▉     | 92kB 5.1MB/s eta 0:00:01\r\u001b[K     |█████████████████████████████▊  | 102kB 5.3MB/s eta 0:00:01\r\u001b[K     |████████████████████████████████| 112kB 5.3MB/s \n",
            "\u001b[?25hRequirement already satisfied: tqdm in /usr/local/lib/python3.6/dist-packages (from jmetalpy) (4.41.1)\n",
            "Requirement already satisfied: numpy>=1.16.0 in /usr/local/lib/python3.6/dist-packages (from jmetalpy) (1.19.5)\n",
            "Requirement already satisfied: pandas>=0.24.2 in /usr/local/lib/python3.6/dist-packages (from jmetalpy) (1.1.5)\n",
            "Requirement already satisfied: plotly>=3.3.0 in /usr/local/lib/python3.6/dist-packages (from jmetalpy) (4.4.1)\n",
            "Requirement already satisfied: matplotlib>=3.0.2 in /usr/local/lib/python3.6/dist-packages (from jmetalpy) (3.2.2)\n",
            "Requirement already satisfied: scipy>=1.3.0 in /usr/local/lib/python3.6/dist-packages (from jmetalpy) (1.4.1)\n",
            "Requirement already satisfied: statsmodels>=0.9.0 in /usr/local/lib/python3.6/dist-packages (from jmetalpy) (0.10.2)\n",
            "Requirement already satisfied: pytz>=2017.2 in /usr/local/lib/python3.6/dist-packages (from pandas>=0.24.2->jmetalpy) (2018.9)\n",
            "Requirement already satisfied: python-dateutil>=2.7.3 in /usr/local/lib/python3.6/dist-packages (from pandas>=0.24.2->jmetalpy) (2.8.1)\n",
            "Requirement already satisfied: six in /usr/local/lib/python3.6/dist-packages (from plotly>=3.3.0->jmetalpy) (1.15.0)\n",
            "Requirement already satisfied: retrying>=1.3.3 in /usr/local/lib/python3.6/dist-packages (from plotly>=3.3.0->jmetalpy) (1.3.3)\n",
            "Requirement already satisfied: kiwisolver>=1.0.1 in /usr/local/lib/python3.6/dist-packages (from matplotlib>=3.0.2->jmetalpy) (1.3.1)\n",
            "Requirement already satisfied: pyparsing!=2.0.4,!=2.1.2,!=2.1.6,>=2.0.1 in /usr/local/lib/python3.6/dist-packages (from matplotlib>=3.0.2->jmetalpy) (2.4.7)\n",
            "Requirement already satisfied: cycler>=0.10 in /usr/local/lib/python3.6/dist-packages (from matplotlib>=3.0.2->jmetalpy) (0.10.0)\n",
            "Requirement already satisfied: patsy>=0.4.0 in /usr/local/lib/python3.6/dist-packages (from statsmodels>=0.9.0->jmetalpy) (0.5.1)\n",
            "Building wheels for collected packages: jmetalpy\n",
            "  Building wheel for jmetalpy (setup.py) ... \u001b[?25l\u001b[?25hdone\n",
            "  Created wheel for jmetalpy: filename=jmetalpy-1.5.5-cp36-none-any.whl size=196213 sha256=bc6481620620811155f2fbeacc704ac0e1d52c12c051258c784d2fa306510299\n",
            "  Stored in directory: /root/.cache/pip/wheels/d0/ae/f5/6493b2f72d1311cf8f97e283039fb225f4743879bd04345a9e\n",
            "Successfully built jmetalpy\n",
            "Installing collected packages: jmetalpy\n",
            "Successfully installed jmetalpy-1.5.5\n",
            "Collecting scikit-posthocs\n",
            "  Downloading https://files.pythonhosted.org/packages/e8/b3/ab9b240381d6218a3a5e94d11a1552217317d9624988cf279ec527b5f83e/scikit_posthocs-0.6.6-py3-none-any.whl\n",
            "Requirement already satisfied: numpy in /usr/local/lib/python3.6/dist-packages (from scikit-posthocs) (1.19.5)\n",
            "Requirement already satisfied: pandas>=0.20.0 in /usr/local/lib/python3.6/dist-packages (from scikit-posthocs) (1.1.5)\n",
            "Requirement already satisfied: scipy in /usr/local/lib/python3.6/dist-packages (from scikit-posthocs) (1.4.1)\n",
            "Requirement already satisfied: seaborn in /usr/local/lib/python3.6/dist-packages (from scikit-posthocs) (0.11.1)\n",
            "Requirement already satisfied: statsmodels in /usr/local/lib/python3.6/dist-packages (from scikit-posthocs) (0.10.2)\n",
            "Requirement already satisfied: matplotlib in /usr/local/lib/python3.6/dist-packages (from scikit-posthocs) (3.2.2)\n",
            "Requirement already satisfied: python-dateutil>=2.7.3 in /usr/local/lib/python3.6/dist-packages (from pandas>=0.20.0->scikit-posthocs) (2.8.1)\n",
            "Requirement already satisfied: pytz>=2017.2 in /usr/local/lib/python3.6/dist-packages (from pandas>=0.20.0->scikit-posthocs) (2018.9)\n",
            "Requirement already satisfied: patsy>=0.4.0 in /usr/local/lib/python3.6/dist-packages (from statsmodels->scikit-posthocs) (0.5.1)\n",
            "Requirement already satisfied: cycler>=0.10 in /usr/local/lib/python3.6/dist-packages (from matplotlib->scikit-posthocs) (0.10.0)\n",
            "Requirement already satisfied: pyparsing!=2.0.4,!=2.1.2,!=2.1.6,>=2.0.1 in /usr/local/lib/python3.6/dist-packages (from matplotlib->scikit-posthocs) (2.4.7)\n",
            "Requirement already satisfied: kiwisolver>=1.0.1 in /usr/local/lib/python3.6/dist-packages (from matplotlib->scikit-posthocs) (1.3.1)\n",
            "Requirement already satisfied: six>=1.5 in /usr/local/lib/python3.6/dist-packages (from python-dateutil>=2.7.3->pandas>=0.20.0->scikit-posthocs) (1.15.0)\n",
            "Installing collected packages: scikit-posthocs\n",
            "Successfully installed scikit-posthocs-0.6.6\n"
          ],
          "name": "stdout"
        }
      ]
    },
    {
      "cell_type": "code",
      "metadata": {
        "id": "CYI4CfV4fABl",
        "colab": {
          "base_uri": "https://localhost:8080/"
        },
        "outputId": "bde1ceeb-6dd2-41c9-d6c7-809653294766"
      },
      "source": [
        "from jmetal.algorithm.singleobjective.genetic_algorithm import GeneticAlgorithm\n",
        "from jmetal.operator import BinaryTournamentSelection, PolynomialMutation, SBXCrossover, UniformMutation\n",
        "from jmetal.problem.singleobjective.unconstrained import Rastrigin\n",
        "from jmetal.util.termination_criterion import StoppingByEvaluations\n",
        "from jmetal.core.observer import Observer\n",
        "import logging\n",
        "import matplotlib.pyplot as plt \n",
        "import scikit_posthocs as sp\n",
        "from scipy import stats\n",
        "from jmetal.algorithm.singleobjective.genetic_algorithm import GeneticAlgorithm\n",
        "import numpy as np\n",
        "from scipy import stats\n"
      ],
      "execution_count": null,
      "outputs": [
        {
          "output_type": "stream",
          "text": [
            "/usr/local/lib/python3.6/dist-packages/statsmodels/tools/_testing.py:19: FutureWarning: pandas.util.testing is deprecated. Use the functions in the public API at pandas.testing instead.\n",
            "  import pandas.util.testing as tm\n"
          ],
          "name": "stderr"
        }
      ]
    },
    {
      "cell_type": "code",
      "metadata": {
        "id": "gDCdGCWvowXQ"
      },
      "source": [
        "class DataObserver(Observer):\n",
        "\n",
        "    def __init__(self, frequency: float = 1.0, data = []) -> None:\n",
        "        \"\"\" Show the number of evaluations, best fitness and computing time.\n",
        "        :param frequency: Display frequency. \"\"\"\n",
        "        self.display_frequency = frequency\n",
        "        self.data = data\n",
        "\n",
        "    def update(self, *args, **kwargs):\n",
        "        computing_time = kwargs['COMPUTING_TIME']\n",
        "        evaluations = kwargs['EVALUATIONS']\n",
        "        solutions = kwargs['SOLUTIONS']\n",
        "\n",
        "        if (evaluations % self.display_frequency) == 0 and solutions:\n",
        "            if type(solutions) == list:\n",
        "                fitness = solutions[0].objectives\n",
        "            else:\n",
        "                fitness = solutions.objectives\n",
        "            self.data.append(fitness[0])"
      ],
      "execution_count": null,
      "outputs": []
    },
    {
      "cell_type": "code",
      "metadata": {
        "id": "2eeViAIEfEhY"
      },
      "source": [
        "from copy import copy\n",
        "from typing import TypeVar, List\n",
        "\n",
        "from jmetal.core.algorithm import EvolutionaryAlgorithm\n",
        "from jmetal.core.operator import Mutation\n",
        "from jmetal.core.problem import Problem\n",
        "from jmetal.util.evaluator import Evaluator, SequentialEvaluator\n",
        "from jmetal.util.generator import Generator, RandomGenerator\n",
        "from jmetal.util.termination_criterion import TerminationCriterion\n",
        "from jmetal.util.constraint_handling import overall_constraint_violation_degree\n",
        "\n",
        "S = TypeVar('S')\n",
        "R = TypeVar('R')\n",
        "\n",
        "\n",
        "class CloneAlg(EvolutionaryAlgorithm[S, R]):\n",
        "\n",
        "    def __init__(self,\n",
        "                 problem: Problem,\n",
        "                 population_size: int,\n",
        "                 offspring_population_size: int,\n",
        "                 mutation: Mutation,\n",
        "                 termination_criterion: TerminationCriterion,\n",
        "                 population_generator: Generator = RandomGenerator(),\n",
        "                 population_evaluator: Evaluator = SequentialEvaluator()):\n",
        "        super(CloneAlg, self).__init__(\n",
        "            problem=problem,\n",
        "            population_size=population_size,\n",
        "            offspring_population_size=offspring_population_size)\n",
        "        self.population_size = population_size\n",
        "        self.offspring_population_size = offspring_population_size\n",
        "\n",
        "        self.mutation_operator = mutation\n",
        "\n",
        "        self.population_generator = population_generator\n",
        "        self.population_evaluator = population_evaluator\n",
        "\n",
        "        self.termination_criterion = termination_criterion\n",
        "        self.observable.register(termination_criterion)\n",
        "\n",
        "    def create_initial_solutions(self) -> List[S]:\n",
        "        return [self.population_generator.new(self.problem)\n",
        "                for _ in range(self.population_size)]\n",
        "\n",
        "    def evaluate(self, solution_list: List[S]):\n",
        "        return self.population_evaluator.evaluate(solution_list, self.problem)\n",
        "\n",
        "    def stopping_condition_is_met(self) -> bool:\n",
        "        return self.termination_criterion.is_met\n",
        "\n",
        "    def step(self):\n",
        "        mating_population = self.selection(self.solutions)\n",
        "        offspring_population = self.reproduction(mating_population)\n",
        "        offspring_population = self.evaluate(offspring_population)\n",
        "\n",
        "        self.solutions = self.replacement(self.solutions, offspring_population)\n",
        "\n",
        "    def selection(self, population: List[S]) -> List[S]:\n",
        "        return population\n",
        "\n",
        "    def reproduction(self, population: List[S]) -> List[S]:\n",
        "        offspring_population = []\n",
        "        overall_fitness = np.mean([solution.objectives[0] for solution in population])\n",
        "        for solution in population:\n",
        "            fitness = solution.objectives[0]\n",
        "            for j in range(int(self.offspring_population_size * 0.1 * (fitness / overall_fitness))): # make clones based on fitness - it could be applied better\n",
        "                new_solution = copy(solution)\n",
        "                offspring_population.append(self.mutation_operator.execute(new_solution)) # mutate clones\n",
        "\n",
        "        return offspring_population\n",
        "\n",
        "    def replacement(self, population: List[S], offspring_population: List[S]) -> List[S]:\n",
        "        population_pool = offspring_population\n",
        "\n",
        "        population_pool.sort(key=lambda s: (overall_constraint_violation_degree(s), s.objectives[0]))\n",
        "\n",
        "        new_population = []\n",
        "        for i in range(self.population_size):\n",
        "            new_population.append(population_pool[i])\n",
        "\n",
        "        return new_population\n",
        "\n",
        "    def get_result(self) -> R:\n",
        "        return self.solutions[0]\n",
        "\n",
        "    def get_name(self) -> str:\n",
        "        return 'ClonAlg'"
      ],
      "execution_count": null,
      "outputs": []
    },
    {
      "cell_type": "code",
      "metadata": {
        "id": "uPWJ96SmoyqF"
      },
      "source": [
        "def runProblem():\n",
        "  alldata = []\n",
        "  for x in range(10):\n",
        "    algorithm = CloneAlg(\n",
        "      problem=Rastrigin(50),\n",
        "      population_size=100,\n",
        "      offspring_population_size=200,\n",
        "      mutation=UniformMutation(0.5),\n",
        "      termination_criterion=StoppingByEvaluations(max_evaluations=5000)\n",
        "    )\n",
        "    data = []\n",
        "    dataobserver = DataObserver(1.0, data)\n",
        "    algorithm.observable.register(observer=dataobserver)\n",
        "    algorithm.run()\n",
        "    alldata.append(data)\n",
        "\n",
        "  #transpose!\n",
        "  numpy_array = np.array(alldata)\n",
        "  transpose = numpy_array.T\n",
        "  transpose_list = transpose.tolist()\n",
        "\n",
        "  # print(transpose_list)\n",
        "\n",
        "    \n",
        "  fig = plt.figure(figsize =(10, 7)) \n",
        "    \n",
        "  # Creating axes instance \n",
        "  ax = fig.add_axes([0, 0, 1, 1]) \n",
        "    \n",
        "  # Creating plot \n",
        "  bp = ax.boxplot(transpose_list) \n",
        "  \n",
        "  # show plot \n",
        "  plt.show()\n",
        "\n",
        "  # perform Kruskal-Wallis Test \n",
        "  print(stats.kruskal(transpose_list[0],transpose_list[1],transpose_list[-1]))\n",
        "\n",
        "\n",
        "  # perform dunn test\n",
        "  sp.posthoc_dunn([transpose_list[0],transpose_list[1],transpose_list[-1]], p_adjust = 'holm')"
      ],
      "execution_count": null,
      "outputs": []
    },
    {
      "cell_type": "code",
      "metadata": {
        "colab": {
          "base_uri": "https://localhost:8080/",
          "height": 570
        },
        "id": "nb2MX3oGo6LN",
        "outputId": "a8b9db2e-ed6c-4eb5-9817-e3a5e4c80562"
      },
      "source": [
        "runProblem()"
      ],
      "execution_count": null,
      "outputs": [
        {
          "output_type": "display_data",
          "data": {
            "image/png": "[encoded data removed]",
            "text/plain": [
              "<Figure size 720x504 with 1 Axes>"
            ]
          },
          "metadata": {
            "tags": [],
            "needs_background": "light"
          }
        },
        {
          "output_type": "stream",
          "text": [
            "KruskalResult(statistic=25.80645161290323, pvalue=2.49000508218493e-06)\n"
          ],
          "name": "stdout"
        }
      ]
    }
  ]
}